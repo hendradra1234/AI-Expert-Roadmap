{
  "nbformat": 4,
  "nbformat_minor": 0,
  "metadata": {
    "colab": {
      "provenance": [],
      "authorship_tag": "ABX9TyOPQ0FRSv7hnN2fLpjMHA0+",
      "include_colab_link": true
    },
    "kernelspec": {
      "name": "python3",
      "display_name": "Python 3"
    },
    "language_info": {
      "name": "python"
    }
  },
  "cells": [
    {
      "cell_type": "markdown",
      "metadata": {
        "id": "view-in-github",
        "colab_type": "text"
      },
      "source": [
        "<a href=\"https://colab.research.google.com/github/hendradra1234/AI-Expert-Roadmap/blob/main/Hendra_2322510009_AlgoritmaDanStrukturData_Latihan1.ipynb\" target=\"_parent\"><img src=\"https://colab.research.google.com/assets/colab-badge.svg\" alt=\"Open In Colab\"/></a>"
      ]
    },
    {
      "cell_type": "markdown",
      "source": [
        "**Soal 1 (fix Issue)**\n",
        "> c = a + b\n",
        "\n",
        "> a = 5\n",
        "\n",
        "> b = 4\n",
        "\n",
        "> print c"
      ],
      "metadata": {
        "id": "wI6zAI4sjmpI"
      }
    },
    {
      "cell_type": "code",
      "source": [
        "# Soal 1 fix code\n",
        "\n",
        "a = 5\n",
        "b = 4\n",
        "c = a + b\n",
        "print(c)"
      ],
      "metadata": {
        "colab": {
          "base_uri": "https://localhost:8080/"
        },
        "id": "z9KU70fOm-ov",
        "outputId": "035be0ab-c30b-4f90-8dca-3e4d77175f84"
      },
      "execution_count": null,
      "outputs": [
        {
          "output_type": "stream",
          "name": "stdout",
          "text": [
            "9\n"
          ]
        }
      ]
    },
    {
      "cell_type": "markdown",
      "source": [
        "**Soal 2 (fix Issue)**\n",
        "> x = 10\n",
        "\n",
        "> c = c + x\n",
        "\n",
        "> c = x\n",
        "\n",
        "print x"
      ],
      "metadata": {
        "id": "I4_Mv71tkae_"
      }
    },
    {
      "cell_type": "code",
      "execution_count": null,
      "metadata": {
        "colab": {
          "base_uri": "https://localhost:8080/"
        },
        "id": "3lmpOcIzX8D6",
        "outputId": "6e6e9a99-fc44-42f3-a2fc-5b05f406d8ca"
      },
      "outputs": [
        {
          "output_type": "stream",
          "name": "stdout",
          "text": [
            "20\n"
          ]
        }
      ],
      "source": [
        "# Soal 2 fix code\n",
        "x = 10\n",
        "c = x\n",
        "c = c + x\n",
        "print(c)"
      ]
    },
    {
      "cell_type": "markdown",
      "source": [
        "**Soal 3 (fix Issue)**\n",
        "\n",
        "> p = 20\n",
        "\n",
        "> s = s + l\n",
        "\n",
        "> l = 5\n",
        "\n",
        "> s = p * 2\n",
        "\n",
        "> print s"
      ],
      "metadata": {
        "id": "4Kxqd2CmnFIP"
      }
    },
    {
      "cell_type": "code",
      "source": [
        "# Soal 3 fix code\n",
        "p = 20\n",
        "l = 5\n",
        "s=p*2\n",
        "s = s+l\n",
        "print(s)"
      ],
      "metadata": {
        "colab": {
          "base_uri": "https://localhost:8080/"
        },
        "id": "r3LIVGZFnEi6",
        "outputId": "0dc92877-59e5-48bf-cf02-a6595a8a78a0"
      },
      "execution_count": null,
      "outputs": [
        {
          "output_type": "stream",
          "name": "stdout",
          "text": [
            "45\n"
          ]
        }
      ]
    },
    {
      "cell_type": "markdown",
      "source": [
        "**Soal 4 (fix Issue)**\n",
        "> k = 15\n",
        "\n",
        "> m = m + m\n",
        "\n",
        "> m = k * l\n",
        "\n",
        "> l = k\n",
        "\n",
        "> print m"
      ],
      "metadata": {
        "id": "sYjTBrMinIBY"
      }
    },
    {
      "cell_type": "code",
      "source": [
        "# Soal 4 fix code\n",
        "k = 15\n",
        "l = k\n",
        "m = k * l\n",
        "m = m + m\n",
        "\n",
        "print(m)"
      ],
      "metadata": {
        "colab": {
          "base_uri": "https://localhost:8080/"
        },
        "id": "8RKhjg1jnIKZ",
        "outputId": "539a1e23-be45-408f-bbb5-e8861922127f"
      },
      "execution_count": null,
      "outputs": [
        {
          "output_type": "stream",
          "name": "stdout",
          "text": [
            "450\n"
          ]
        }
      ]
    }
  ]
}